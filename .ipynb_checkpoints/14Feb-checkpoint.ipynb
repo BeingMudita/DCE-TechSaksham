{
 "cells": [
  {
   "cell_type": "code",
   "execution_count": 5,
   "id": "81aa1c10-72cf-476a-bdc4-84505c162773",
   "metadata": {},
   "outputs": [
    {
     "name": "stdout",
     "output_type": "stream",
     "text": [
      "I am instance method\n",
      "I am static method\n",
      "I am static method\n"
     ]
    }
   ],
   "source": [
    "#Instance and Static methods in class\n",
    "\n",
    "class demo:\n",
    "    #Instance method\n",
    "    def display1(self):\n",
    "        print(\"I am instance method\")\n",
    "    #Static method\n",
    "    @staticmethod\n",
    "    def display2():\n",
    "        print(\"I am static method\")\n",
    "\n",
    "c= demo()\n",
    "c.display1()\n",
    "c.display2()\n",
    "demo.display2()"
   ]
  },
  {
   "cell_type": "code",
   "execution_count": 18,
   "id": "a4f1c71b-8459-428f-9826-70ffbd0817ec",
   "metadata": {},
   "outputs": [
    {
     "name": "stdout",
     "output_type": "stream",
     "text": [
      "12\n"
     ]
    }
   ],
   "source": [
    "#Constructor\n",
    "#setter -> method can set a value\n",
    "#getter -> method can get a value\n",
    "\n",
    "class ABC:\n",
    "    def __init__(self):\n",
    "        self.p=10\n",
    "        self.__priv = 20\n",
    "        self._prot = 30\n",
    "    def setpriv(self,   val):\n",
    "        self.__priv = val\n",
    "    def getpriv(self):\n",
    "        print(self.__priv)\n",
    "\n",
    "a = ABC()\n",
    "# a._ABC__priv #Accessing private data members\n",
    "a.setpriv(12)\n",
    "a.getpriv()\n"
   ]
  },
  {
   "cell_type": "code",
   "execution_count": 32,
   "id": "3733374c-4a33-4791-b7fe-3517726cf58c",
   "metadata": {},
   "outputs": [
    {
     "name": "stdout",
     "output_type": "stream",
     "text": [
      "I am mybank\n"
     ]
    }
   ],
   "source": [
    "from abc import ABC , abstractmethod\n",
    "#Abstract class\n",
    "class bank(ABC):\n",
    "    @abstractmethod\n",
    "    def verifyId(self):\n",
    "        pass\n",
    "    def display(self):\n",
    "        print(\"HI\")\n",
    "\n",
    "class mybank(bank):\n",
    "    def verifyId(self):\n",
    "        print(\"I am mybank\")\n",
    "\n",
    "        \n",
    "b = mybank()\n",
    "b.verifyId()\n"
   ]
  },
  {
   "cell_type": "code",
   "execution_count": 51,
   "id": "7a20f3de-b193-471d-b5a8-85d0ee9eeb97",
   "metadata": {},
   "outputs": [
    {
     "name": "stdout",
     "output_type": "stream",
     "text": [
      "Area of circle is: 12.56\n",
      "Perimeter of circle is: 12.56\n",
      "Area of square is: 4\n",
      "Perimeter of square is: 8\n",
      "Area of rectangle is: 4\n",
      "Perimeter of rectangle is: 8\n"
     ]
    }
   ],
   "source": [
    "#Write a abstract class - shape\n",
    "#Methods - area, permeter\n",
    "\n",
    "from abc import ABC, abstractmethod\n",
    "\n",
    "class shape(ABC):\n",
    "    @abstractmethod\n",
    "    def area(self):\n",
    "        pass\n",
    "    @abstractmethod\n",
    "    def perimeter(self):\n",
    "        pass\n",
    "\n",
    "class circle(shape):\n",
    "    def __init__(self, rad):\n",
    "        self.rad = rad \n",
    "        pass\n",
    "    def area(self):\n",
    "        print(\"Area of circle is:\", 3.14*(self.rad**2))\n",
    "    def perimeter(self):\n",
    "        print(\"Perimeter of circle is:\", 2*3.14*self.rad)\n",
    "\n",
    "class square(shape):\n",
    "    def __init__(self, a):\n",
    "        self.a = a\n",
    "        pass\n",
    "    def area(self):\n",
    "        print(\"Area of square is:\", self.a*self.a)\n",
    "    def perimeter(self):\n",
    "        print(\"Perimeter of square is:\", 4*self.a)\n",
    "\n",
    "class rectangle(shape):\n",
    "    def __init__(self, l, b):\n",
    "        self.l = l\n",
    "        self.b =b \n",
    "        pass\n",
    "    def area(self):\n",
    "        print(\"Area of rectangle is:\",self.l*self.b )\n",
    "    def perimeter(self):\n",
    "        print(\"Perimeter of rectangle is:\", 2*(self.l+self.b))\n",
    "\n",
    "c = circle(2)\n",
    "c.area()\n",
    "c.perimeter()\n",
    "s = square(2)\n",
    "s.area()\n",
    "s.perimeter()\n",
    "r = rectangle(2,2)\n",
    "r.area()\n",
    "r.perimeter()\n"
   ]
  },
  {
   "cell_type": "code",
   "execution_count": 55,
   "id": "aec559d3-1b4b-4311-a14f-ee5681247f69",
   "metadata": {},
   "outputs": [
    {
     "name": "stdout",
     "output_type": "stream",
     "text": [
      "400 ->\n",
      "180 ->\n",
      "150 ->\n",
      "10 ->\n",
      "90 ->\n",
      "100 ->\n"
     ]
    }
   ],
   "source": [
    "class node:\n",
    "    def __init__(self, data):\n",
    "        self.data = data\n",
    "        self.next = None\n",
    "\n",
    "class LinkedList:\n",
    "    def __init__(self):\n",
    "        self.head = None\n",
    "\n",
    "    def insertAtBeg(self, data):\n",
    "        newnode = node(data)\n",
    "        if self.head == None:\n",
    "            self.head = newnode\n",
    "        else:\n",
    "            newnode.next = self.head\n",
    "            self.head= newnode\n",
    "    \n",
    "    def traverse(self):\n",
    "        temp = self.head\n",
    "        while temp != None:\n",
    "            print('{} ->'.format(temp.data))\n",
    "            temp = temp.next\n",
    "\n",
    "l = LinkedList()\n",
    "l.insertAtBeg(100)\n",
    "l.insertAtBeg(90)\n",
    "l.insertAtBeg(10)\n",
    "l.insertAtBeg(150)\n",
    "l.insertAtBeg(180)\n",
    "l.insertAtBeg(400)\n",
    "l.traverse()"
   ]
  },
  {
   "cell_type": "code",
   "execution_count": null,
   "id": "1e7f911f-e757-4618-9c00-a297dc36b2ec",
   "metadata": {},
   "outputs": [],
   "source": []
  }
 ],
 "metadata": {
  "kernelspec": {
   "display_name": "Python 3 (ipykernel)",
   "language": "python",
   "name": "python3"
  },
  "language_info": {
   "codemirror_mode": {
    "name": "ipython",
    "version": 3
   },
   "file_extension": ".py",
   "mimetype": "text/x-python",
   "name": "python",
   "nbconvert_exporter": "python",
   "pygments_lexer": "ipython3",
   "version": "3.11.7"
  }
 },
 "nbformat": 4,
 "nbformat_minor": 5
}
