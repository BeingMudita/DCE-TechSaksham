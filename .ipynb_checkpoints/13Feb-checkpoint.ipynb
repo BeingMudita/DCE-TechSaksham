{
 "cells": [
  {
   "cell_type": "code",
   "execution_count": 17,
   "id": "7caee3cb-6c96-44c8-85f4-fffe4d664653",
   "metadata": {},
   "outputs": [
    {
     "name": "stdout",
     "output_type": "stream",
     "text": [
      "Model: AZB12N5 \n",
      "Year: 2025 \n",
      "Make: TaTa Punch\n"
     ]
    },
    {
     "name": "stdin",
     "output_type": "stream",
     "text": [
      "Enter attribute to be changed  model\n",
      "Enter the value to be changed: Punch\n"
     ]
    },
    {
     "name": "stdout",
     "output_type": "stream",
     "text": [
      " model changed\n",
      "\n",
      "Model: AZB12N5 \n",
      "Year: 2025 \n",
      "Make: TaTa Punch\n"
     ]
    }
   ],
   "source": [
    "#Design a system where each object represents a vehicle with attributes for make, model, and year \n",
    "#Implement methods to display vehicle's details and update its manufacturing year\n",
    "#Create a vehicle object, display and its details, update its year, ad display the updated detail\n",
    "\n",
    "class vehicle:\n",
    "    def __init__(self, make, model, year):\n",
    "        self.make = make\n",
    "        self.model = model\n",
    "        self.year = year\n",
    "    def display(self):\n",
    "        print(\"Model:\", self.model, \"\\nYear:\" ,self.year, \"\\nMake:\", self.make)\n",
    "    def update(self):\n",
    "        attr = input(\"Enter attribute to be changed\")\n",
    "        if attr=='model':\n",
    "            self.model = input(\"Enter the value to be changed:\")\n",
    "        elif attr=='year':\n",
    "            self.year = input(\"Enter the value to be changed:\")\n",
    "        elif attr=='make':\n",
    "            self.make = input(\"Enter the value to be changed:\")\n",
    "        print(attr, \"changed\\n\")\n",
    "\n",
    "c1 = vehicle(\"TaTa Punch\", \"AZB12N5\", 2025)\n",
    "c1.display()\n",
    "c1.update()\n",
    "c1.display()"
   ]
  },
  {
   "cell_type": "code",
   "execution_count": 27,
   "id": "024837b9-9ee9-4539-a805-b513c600c6ba",
   "metadata": {},
   "outputs": [
    {
     "name": "stdin",
     "output_type": "stream",
     "text": [
      "Enter a title: Harry Potter\n",
      "Enter a title: Arranged murder\n",
      "Enter a title: Diary of a young girl\n",
      "Enter a title: Wings of fire\n"
     ]
    },
    {
     "name": "stdout",
     "output_type": "stream",
     "text": [
      "Harry Potter\n",
      "Arranged murder\n",
      "Diary of a young girl\n",
      "Wings of fire\n"
     ]
    },
    {
     "name": "stdin",
     "output_type": "stream",
     "text": [
      "Enter a title: Arranged murder\n"
     ]
    },
    {
     "name": "stdout",
     "output_type": "stream",
     "text": [
      "Harry Potter\n",
      "Diary of a young girl\n",
      "Wings of fire\n"
     ]
    }
   ],
   "source": [
    "class library:\n",
    "    def __init__(self):\n",
    "        self.bookTitle = []\n",
    "    def addBook(self):\n",
    "        title = input(\"Enter a title:\")\n",
    "        self.bookTitle.append(title)\n",
    "    def display(self):\n",
    "        for i in self.bookTitle:\n",
    "            print(i)\n",
    "    def removeBook(self):\n",
    "        title = input(\"Enter a title:\")\n",
    "        self.bookTitle.remove(title)\n",
    "    \n",
    "    \n",
    "l1 = library()\n",
    "l1.addBook()\n",
    "l1.addBook()\n",
    "l1.addBook()\n",
    "l1.addBook()\n",
    "l1.display()\n",
    "l1.removeBook()\n",
    "l1.display()"
   ]
  },
  {
   "cell_type": "code",
   "execution_count": 35,
   "id": "9bca0716-dc90-4907-899f-a9ec936ffc91",
   "metadata": {},
   "outputs": [
    {
     "name": "stdout",
     "output_type": "stream",
     "text": [
      "Class A\n"
     ]
    }
   ],
   "source": [
    "class A:\n",
    "    def __init__ (self, a):\n",
    "        self.a = a\n",
    "        print(\"Class A\")\n",
    "class B(A):\n",
    "    pass\n",
    "\n",
    "b1 = B(20)"
   ]
  },
  {
   "cell_type": "code",
   "execution_count": 41,
   "id": "4fed9695-186c-41ca-9a16-40043e5cfc2d",
   "metadata": {},
   "outputs": [
    {
     "name": "stdout",
     "output_type": "stream",
     "text": [
      "1.0\n",
      "1.4142135623730951\n"
     ]
    }
   ],
   "source": [
    "class line:\n",
    "    def __init__ (self, p1, p2):\n",
    "        self.p1 = p1\n",
    "        self.p2 = p2\n",
    "    def slope (self):\n",
    "        s= (self.p2[1] - self.p1[1])/ (self.p2[0] - self.p1[0])\n",
    "        print(s)\n",
    "    def distance (self):\n",
    "        d= (((self.p2[0]-self.p1[0])**2)+((self.p2[1] - self.p1[1])**2))**.5\n",
    "        print(d)\n",
    "\n",
    "\n",
    "l1 = line((1,1), (2,2))\n",
    "l1.slope()\n",
    "l1.distance()\n",
    "    \n",
    "    "
   ]
  },
  {
   "cell_type": "code",
   "execution_count": 55,
   "id": "6e2e7804-ef24-4b98-9e2a-ef5968dcccf7",
   "metadata": {},
   "outputs": [
    {
     "name": "stdout",
     "output_type": "stream",
     "text": [
      "StudentID: 2001 \n",
      "Name: Ram \n",
      "Branch: CSE\n",
      "StudentID: 2002 \n",
      "Name: BOD \n",
      "Branch: CSE\n",
      "Student not registered\n"
     ]
    }
   ],
   "source": [
    "class student:\n",
    "    def __init__ (self, studentId, name, branch):\n",
    "        self.studentId = studentId\n",
    "        self.name = name\n",
    "        self.branch = branch\n",
    "    def display(self):\n",
    "        print(\"StudentID:\" ,self.studentId, \"\\nName:\", self.name, \"\\nBranch:\", self.branch)\n",
    "\n",
    "class sim:\n",
    "    stuid =2000\n",
    "    def __init__ (self):\n",
    "        self.studentList = {}\n",
    "    def addStudent(self, name , branch):\n",
    "        sim.stuid = sim.stuid +1\n",
    "        self.studentList[sim.stuid] = student(sim.stuid, name , branch)\n",
    "    def displayAll (self):\n",
    "        for key, value in self.studentList.items():\n",
    "            value.display()\n",
    "    def search (self ,stuid):\n",
    "        result = self.studentList.get(stuid , False)\n",
    "        if result:\n",
    "            result.display()\n",
    "        else:\n",
    "            print(\"Student not registered\")\n",
    "\n",
    "s = sim()\n",
    "s.addStudent(\"Ram\", \"CSE\")\n",
    "s.addStudent(\"BOD\", \"CSE\")\n",
    "s.displayAll()\n",
    "s.search(200)\n"
   ]
  },
  {
   "cell_type": "code",
   "execution_count": null,
   "id": "93bb7628-c887-4be4-a9a4-af41f2147134",
   "metadata": {},
   "outputs": [],
   "source": []
  }
 ],
 "metadata": {
  "kernelspec": {
   "display_name": "Python 3 (ipykernel)",
   "language": "python",
   "name": "python3"
  },
  "language_info": {
   "codemirror_mode": {
    "name": "ipython",
    "version": 3
   },
   "file_extension": ".py",
   "mimetype": "text/x-python",
   "name": "python",
   "nbconvert_exporter": "python",
   "pygments_lexer": "ipython3",
   "version": "3.11.7"
  }
 },
 "nbformat": 4,
 "nbformat_minor": 5
}
