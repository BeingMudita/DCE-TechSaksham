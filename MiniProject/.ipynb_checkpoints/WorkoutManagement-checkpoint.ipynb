{
 "cells": [
  {
   "cell_type": "code",
   "execution_count": 1,
   "id": "f27e5dde-1f09-47c1-b032-e8aefb822e34",
   "metadata": {},
   "outputs": [],
   "source": [
    "class Workout:\n",
    "    def __init__ (self, date, exercise_type, duration, calories_burned):\n",
    "        self.date = date\n",
    "        self.exercise_type = exercise_type\n",
    "        self.duration = duration\n",
    "        self.calories_burned = calories_burned\n",
    "    def __str__(self): #Override the \n",
    "        return f\"Date: {self.date}\\nExercise: {self.exercise_type}\\nDuration: {self.duration}\\nCalories burned: {self.calories_burned}\"\n"
   ]
  },
  {
   "cell_type": "code",
   "execution_count": 2,
   "id": "469b415b-2f3c-4003-b283-25e37a2e9a89",
   "metadata": {},
   "outputs": [
    {
     "name": "stdout",
     "output_type": "stream",
     "text": [
      "Date: 19-05-2025\n",
      "Exercise: pushup\n",
      "Duration: 120\n",
      "Calories burned: 98\n"
     ]
    }
   ],
   "source": [
    "w1 = Workout('19-05-2025', 'pushup', 120, 98)\n",
    "print(w1)"
   ]
  },
  {
   "cell_type": "code",
   "execution_count": 21,
   "id": "00395615-f99e-4f3b-a8dd-af5408878f41",
   "metadata": {},
   "outputs": [],
   "source": [
    "import os\n",
    "class User:\n",
    "    def __init__(self, name, age, weight):\n",
    "        self.name = name\n",
    "        self.age = age\n",
    "        self.weight = weight\n",
    "        self.workoutList = []\n",
    "    \n",
    "    def add_workout(self, newWorkout):\n",
    "        self.workoutList.append(newWorkout)\n",
    "    \n",
    "    def view_workout(self):\n",
    "        for i in self.workoutList:\n",
    "            print(f\"Date: {i.date}\\nExercise: {i.exercise_type}\\nDuration: {i.duration}\\nCalories burned: {i.calories_burned}\\n\")\n",
    "\n",
    "    def save_data(self, filename):\n",
    "        if os.path.isfile(filename):\n",
    "            with open(filename, \"r\") as file:\n",
    "                lines = file.readlines()\n",
    "            for i in range(0, len(lines), 5):  # Each workout is stored in 5 lines (including the blank line)\n",
    "                if i + 3 < len(lines):  # Ensure valid data structure\n",
    "                    date = lines[i].split(\": \")[1].strip()\n",
    "                    exercise_type = lines[i+1].split(\": \")[1].strip()\n",
    "                    duration = lines[i+2].split(\": \")[1].strip()\n",
    "                    calories_burned = lines[i+3].split(\": \")[1].strip()\n",
    "                    self.workoutList.append(Workout(date, exercise_type, duration, calories_burned))\n",
    "\n",
    "        with open(filename, \"w\") as file:\n",
    "            for i in self.workoutList:\n",
    "                file.write(f\"Date: {i.date}\\n\")\n",
    "                file.write(f\"Exercise: {i.exercise_type}\\n\")\n",
    "                file.write(f\"Duration: {i.duration}\\n\")\n",
    "                file.write(f\"Calories burned: {i.calories_burned}\\n\\n\")  # Extra newline for readability\n",
    "\n",
    "    def load_workout(self, filename):\n",
    "        self.workoutList = []  # Clear existing list\n",
    "        if os.path.isfile(filename):\n",
    "            with open(filename, \"r\") as file:\n",
    "                lines = file.readlines()\n",
    "            for i in range(0, len(lines), 5):  # Read in chunks of 5 lines\n",
    "                if i + 3 < len(lines):  # Ensure valid structure\n",
    "                    date = lines[i].split(\": \")[1].strip()\n",
    "                    exercise_type = lines[i+1].split(\": \")[1].strip()\n",
    "                    duration = lines[i+2].split(\": \")[1].strip()\n",
    "                    calories_burned = lines[i+3].split(\": \")[1].strip()\n",
    "                    self.workoutList.append(Workout(date, exercise_type, duration, calories_burned))"
   ]
  },
  {
   "cell_type": "code",
   "execution_count": 22,
   "id": "cb9542c4-92a3-436d-b03a-4110247f524b",
   "metadata": {},
   "outputs": [
    {
     "name": "stdout",
     "output_type": "stream",
     "text": [
      "<__main__.User object at 0x000001D1F25B6DD0>\n"
     ]
    }
   ],
   "source": [
    "u = User(\"Mark Zukerbag\", 23, 80)\n",
    "print(u)"
   ]
  },
  {
   "cell_type": "code",
   "execution_count": 23,
   "id": "5c4b166d-12f3-4458-b360-2ea22a1f8b8b",
   "metadata": {},
   "outputs": [],
   "source": [
    "u.add_workout(Workout('19-05-2025', 'pushup', 120, 98))"
   ]
  },
  {
   "cell_type": "code",
   "execution_count": 24,
   "id": "978912b2-1d2e-4bf9-a694-41d1dadaf88f",
   "metadata": {},
   "outputs": [
    {
     "name": "stdout",
     "output_type": "stream",
     "text": [
      "Date: 19-05-2025\n",
      "Exercise: pushup\n",
      "Duration: 120\n",
      "Calories burned: 98\n",
      "\n"
     ]
    }
   ],
   "source": [
    "u.view_workout()"
   ]
  },
  {
   "cell_type": "code",
   "execution_count": 25,
   "id": "78d86c41-19c9-47be-b9ad-a6deacf9dcf0",
   "metadata": {},
   "outputs": [
    {
     "name": "stdin",
     "output_type": "stream",
     "text": [
      "Enter name: Mudita\n",
      "Enter age: 20\n",
      "Enter weight 40\n"
     ]
    },
    {
     "name": "stdout",
     "output_type": "stream",
     "text": [
      "1. Add workout\n",
      "2. View work out\n",
      "3. Save workout\n",
      "4. Load Data\n",
      "5. Exit\n"
     ]
    },
    {
     "name": "stdin",
     "output_type": "stream",
     "text": [
      "Enter your choice 1\n",
      "Enter date - dd-mm-yyyy 19-02-2025\n",
      "Enter exercie type: Badminton\n",
      "Enter duration in minutes: 40\n",
      "Enter calories burned: 100\n"
     ]
    },
    {
     "name": "stdout",
     "output_type": "stream",
     "text": [
      "1. Add workout\n",
      "2. View work out\n",
      "3. Save workout\n",
      "4. Load Data\n",
      "5. Exit\n"
     ]
    },
    {
     "name": "stdin",
     "output_type": "stream",
     "text": [
      "Enter your choice 1\n",
      "Enter date - dd-mm-yyyy 17-02-2025\n",
      "Enter exercie type: Swimming\n",
      "Enter duration in minutes: 50\n",
      "Enter calories burned: 150\n"
     ]
    },
    {
     "name": "stdout",
     "output_type": "stream",
     "text": [
      "1. Add workout\n",
      "2. View work out\n",
      "3. Save workout\n",
      "4. Load Data\n",
      "5. Exit\n"
     ]
    },
    {
     "name": "stdin",
     "output_type": "stream",
     "text": [
      "Enter your choice 3\n",
      "Enter file name: Exercise.txt\n"
     ]
    },
    {
     "name": "stdout",
     "output_type": "stream",
     "text": [
      "1. Add workout\n",
      "2. View work out\n",
      "3. Save workout\n",
      "4. Load Data\n",
      "5. Exit\n"
     ]
    },
    {
     "name": "stdin",
     "output_type": "stream",
     "text": [
      "Enter your choice 5\n"
     ]
    },
    {
     "name": "stdout",
     "output_type": "stream",
     "text": [
      "Thankyou. Please visit again\n"
     ]
    }
   ],
   "source": [
    "def main():\n",
    "    name = input(\"Enter name:\")\n",
    "    age = input(\"Enter age:\")\n",
    "    weight = input(\"Enter weight\")\n",
    "    newUser = User(name, age, weight)\n",
    "    while True:\n",
    "        print(\"1. Add workout\\n2. View work out\\n3. Save workout\\n4. Load Data\\n5. Exit\")\n",
    "        ch = int(input(\"Enter your choice\"))\n",
    "        if ch ==1:\n",
    "            date = input (\"Enter date - dd-mm-yyyy\")\n",
    "            exercise_type = input (\"Enter exercie type:\")\n",
    "            duration = input(\"Enter duration in minutes:\")\n",
    "            calories_burned = input(\"Enter calories burned:\")\n",
    "            w = Workout(date, exercise_type, duration, calories_burned) \n",
    "            newUser.add_workout(w)\n",
    "        elif ch ==2:\n",
    "            newUser.view_workout()\n",
    "        elif ch == 3:\n",
    "            filename = input(\"Enter file name:\")\n",
    "            newUser.save_data(filename)\n",
    "        elif ch == 4:\n",
    "            pass\n",
    "        elif ch ==5:\n",
    "            print(\"Thankyou. Please visit again\")\n",
    "            break\n",
    "        else:\n",
    "            print(\"Wrong Choice. Please enter a valid choice\")\n",
    "\n",
    "main()"
   ]
  },
  {
   "cell_type": "code",
   "execution_count": null,
   "id": "02020ed7-d51c-4bc2-bb10-f97befa781c3",
   "metadata": {},
   "outputs": [],
   "source": []
  }
 ],
 "metadata": {
  "kernelspec": {
   "display_name": "Python 3 (ipykernel)",
   "language": "python",
   "name": "python3"
  },
  "language_info": {
   "codemirror_mode": {
    "name": "ipython",
    "version": 3
   },
   "file_extension": ".py",
   "mimetype": "text/x-python",
   "name": "python",
   "nbconvert_exporter": "python",
   "pygments_lexer": "ipython3",
   "version": "3.11.7"
  }
 },
 "nbformat": 4,
 "nbformat_minor": 5
}
