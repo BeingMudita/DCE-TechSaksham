{
 "cells": [
  {
   "cell_type": "code",
   "execution_count": 1,
   "id": "a0394f8d-e5c3-4005-8531-53d1cba5025c",
   "metadata": {},
   "outputs": [
    {
     "name": "stdin",
     "output_type": "stream",
     "text": [
      "Enter number of students: 4\n",
      "Enter studentId: 26111\n",
      "Enter studentId: 26152\n",
      "Enter studentId: 26141\n",
      "Enter studentId: 26110\n"
     ]
    },
    {
     "name": "stdout",
     "output_type": "stream",
     "text": [
      "[26111, 26152, 26141, 26110]\n"
     ]
    },
    {
     "name": "stdin",
     "output_type": "stream",
     "text": [
      "Enter  user detail Mudita Jain, CSE, 20\n",
      "Enter  user detail Richa Bharti, CSE, 20\n",
      "Enter  user detail Pritidarshani Biswal, CSE, 19\n",
      "Enter  user detail Monika, CSE, 19\n"
     ]
    },
    {
     "name": "stdout",
     "output_type": "stream",
     "text": [
      "{26111: ('Mudita Jain', ' CSE', ' 20'), 26152: ('Richa Bharti', ' CSE', ' 20'), 26141: ('Pritidarshani Biswal', ' CSE', ' 19'), 26110: ('Monika', ' CSE', ' 19')}\n"
     ]
    }
   ],
   "source": [
    "#STUDENT MANAGEMENT SYSTEM\n",
    "studentId= []\n",
    "studentInfo ={}\n",
    "studentNum = int(input(\"Enter number of students:\"))\n",
    "for i in range(1,studentNum+1):\n",
    "    data= input(\"Enter studentId:\")\n",
    "    studentId.append(int(data))\n",
    "print(studentId)\n",
    "for i in studentId:\n",
    "    data = input(\"Enter  user detail\").split(\",\")\n",
    "    studentInfo[i] = tuple(data)\n",
    "    \n",
    "print(studentInfo)"
   ]
  },
  {
   "cell_type": "code",
   "execution_count": null,
   "id": "f54d5e1e-73f2-4140-a48e-52baa77a37fa",
   "metadata": {},
   "outputs": [],
   "source": [
    "#Search Operation\n",
    "enterId = int(input(\"Enter your id to be searched:\"))\n",
    "studentInfo.get(enterId)\n"
   ]
  },
  {
   "cell_type": "code",
   "execution_count": null,
   "id": "25370014-0772-4eb2-8506-8dbfcf53abfd",
   "metadata": {},
   "outputs": [],
   "source": [
    "#Delete Operation\n",
    "delId = int(input(\"Enter you id to be deleted:\"))\n",
    "if delId in studentId:\n",
    "    studentInfo.pop(delId)\n",
    "    print(studentInfo)\n",
    "else:\n",
    "    print(\"Student not available\")"
   ]
  },
  {
   "cell_type": "code",
   "execution_count": 17,
   "id": "e8c742c1-2f11-45df-905b-3dff6fc86d9d",
   "metadata": {},
   "outputs": [
    {
     "name": "stdout",
     "output_type": "stream",
     "text": [
      "\n",
      "Name    \t Branch    \t Age\n",
      "Mudita Jain    \t  CSE    \t  20 \t\n",
      "Richa Bharti    \t  CSE    \t  20 \t\n",
      "Pritidarshani Biswal    \t  CSE    \t  19 \t\n",
      "Monika    \t  CSE    \t  19 \t\n"
     ]
    }
   ],
   "source": [
    "#Display All Student\n",
    "print(\"\\nName    \\t Branch    \\t Age\")\n",
    "for i in studentInfo.values():\n",
    "    print(\"{}    \\t {}    \\t {} \\t\".format(i[0], i[1], i[2]))\n"
   ]
  },
  {
   "cell_type": "code",
   "execution_count": 24,
   "id": "d15f48c6-42a1-4391-a207-96ee624960de",
   "metadata": {},
   "outputs": [
    {
     "name": "stdin",
     "output_type": "stream",
     "text": [
      "Enter branch for search  CSE\n"
     ]
    },
    {
     "name": "stdout",
     "output_type": "stream",
     "text": [
      "('Mudita Jain', ' CSE', ' 20')\n",
      "('Richa Bharti', ' CSE', ' 20')\n",
      "('Pritidarshani Biswal', ' CSE', ' 19')\n",
      "('Monika', ' CSE', ' 19')\n"
     ]
    }
   ],
   "source": [
    "#Search on basis of branch\n",
    "branch = input(\"Enter branch for search\")\n",
    "for i in studentInfo.values():\n",
    "    if i[1] == branch:\n",
    "        print(i)\n",
    "    else:\n",
    "        print(\"Branch do not exist\")\n",
    "        \n"
   ]
  },
  {
   "cell_type": "code",
   "execution_count": 30,
   "id": "643ab554-b4d4-469c-aded-9bc4828c1782",
   "metadata": {},
   "outputs": [
    {
     "name": "stdin",
     "output_type": "stream",
     "text": [
      "Enter student id: 26111\n",
      "Enter new records: Mudita CSE 21\n"
     ]
    },
    {
     "name": "stdout",
     "output_type": "stream",
     "text": [
      "NO SUCH STUDENT\n"
     ]
    }
   ],
   "source": [
    "#Update student records\n",
    "id= int(input(\"Enter student id:\"))\n",
    "for i in range(0, len(studentId)):\n",
    "    if id == studentId[i]:\n",
    "        newData= input(\"Enter new records:\").split(\" \")\n",
    "        newRecord= tuple(newData)\n",
    "        studentInfo[id]=newRecord\n",
    "    else:\n",
    "        print(\"NO SUCH STUDENT\")\n",
    "        break\n",
    "        "
   ]
  },
  {
   "cell_type": "code",
   "execution_count": 31,
   "id": "13a59498-b450-4b6a-b077-92e48a79aebd",
   "metadata": {},
   "outputs": [
    {
     "name": "stdout",
     "output_type": "stream",
     "text": [
      "{26111: ('Mudita', 'CSE', '21'), 26152: ('Richa Bharti', ' CSE', ' 20'), 26141: ('Pritidarshani Biswal', ' CSE', ' 19'), 26110: ('Monika', ' CSE', ' 19')}\n"
     ]
    }
   ],
   "source": [
    "print(studentInfo)"
   ]
  },
  {
   "cell_type": "code",
   "execution_count": null,
   "id": "59c375f1-28ea-45e9-b60e-87a78c11f6ee",
   "metadata": {},
   "outputs": [],
   "source": []
  }
 ],
 "metadata": {
  "kernelspec": {
   "display_name": "Python 3 (ipykernel)",
   "language": "python",
   "name": "python3"
  },
  "language_info": {
   "codemirror_mode": {
    "name": "ipython",
    "version": 3
   },
   "file_extension": ".py",
   "mimetype": "text/x-python",
   "name": "python",
   "nbconvert_exporter": "python",
   "pygments_lexer": "ipython3",
   "version": "3.11.7"
  }
 },
 "nbformat": 4,
 "nbformat_minor": 5
}
