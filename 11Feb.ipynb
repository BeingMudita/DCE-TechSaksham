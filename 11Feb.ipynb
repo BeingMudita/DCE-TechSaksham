{
 "cells": [
  {
   "cell_type": "code",
   "execution_count": 8,
   "id": "59c375f1-28ea-45e9-b60e-87a78c11f6ee",
   "metadata": {},
   "outputs": [
    {
     "name": "stdout",
     "output_type": "stream",
     "text": [
      "\n",
      "**************Student Management System*************\n",
      "Select Option:\n",
      "1. Add New Students\n",
      "2. Search Student\n",
      "3. Display All Students\n",
      "4. Search Students by Branch\n",
      "5. Delete Record\n",
      "6. Exit\n"
     ]
    },
    {
     "name": "stdin",
     "output_type": "stream",
     "text": [
      "Enter choice:  1\n",
      "Enter number of students:  2\n"
     ]
    },
    {
     "name": "stdout",
     "output_type": "stream",
     "text": [
      "Enter details in format: Name,Branch,Location,Marks\n"
     ]
    },
    {
     "name": "stdin",
     "output_type": "stream",
     "text": [
      "Enter studentId:  26111\n",
      "Enter details:  Mudita Jain ,CSE ,Delhi ,95 \n",
      "Enter studentId:  110 \n",
      "Enter details:  Mudita ,CSE ,Delhi ,95 \n"
     ]
    },
    {
     "name": "stdout",
     "output_type": "stream",
     "text": [
      "\n",
      "**************Student Management System*************\n",
      "Select Option:\n",
      "1. Add New Students\n",
      "2. Search Student\n",
      "3. Display All Students\n",
      "4. Search Students by Branch\n",
      "5. Delete Record\n",
      "6. Exit\n"
     ]
    },
    {
     "name": "stdin",
     "output_type": "stream",
     "text": [
      "Enter choice:  2\n",
      "Enter Student ID:  26111\n"
     ]
    },
    {
     "name": "stdout",
     "output_type": "stream",
     "text": [
      "Student Found: ID 26111, Name: Mudita Jain , Branch: CSE , Location: Delhi , Marks: 95 \n",
      "\n",
      "**************Student Management System*************\n",
      "Select Option:\n",
      "1. Add New Students\n",
      "2. Search Student\n",
      "3. Display All Students\n",
      "4. Search Students by Branch\n",
      "5. Delete Record\n",
      "6. Exit\n"
     ]
    },
    {
     "name": "stdin",
     "output_type": "stream",
     "text": [
      "Enter choice:  3\n"
     ]
    },
    {
     "name": "stdout",
     "output_type": "stream",
     "text": [
      "\n",
      "Student-ID\tName\tBranch\tLocation\tMarks\n",
      "26111\t\tMudita Jain \tCSE \tDelhi \t95 \n",
      "110\t\tMudita \tCSE \tDelhi \t95 \n",
      "\n",
      "**************Student Management System*************\n",
      "Select Option:\n",
      "1. Add New Students\n",
      "2. Search Student\n",
      "3. Display All Students\n",
      "4. Search Students by Branch\n",
      "5. Delete Record\n",
      "6. Exit\n"
     ]
    },
    {
     "name": "stdin",
     "output_type": "stream",
     "text": [
      "Enter choice:  4\n",
      "Enter branch:  CSE\n"
     ]
    },
    {
     "name": "stdout",
     "output_type": "stream",
     "text": [
      "No students found in this branch.\n",
      "\n",
      "**************Student Management System*************\n",
      "Select Option:\n",
      "1. Add New Students\n",
      "2. Search Student\n",
      "3. Display All Students\n",
      "4. Search Students by Branch\n",
      "5. Delete Record\n",
      "6. Exit\n"
     ]
    },
    {
     "name": "stdin",
     "output_type": "stream",
     "text": [
      "Enter choice:  5\n",
      "Enter Student ID to delete:  110\n"
     ]
    },
    {
     "name": "stdout",
     "output_type": "stream",
     "text": [
      "Student ID 110 deleted.\n",
      "\n",
      "**************Student Management System*************\n",
      "Select Option:\n",
      "1. Add New Students\n",
      "2. Search Student\n",
      "3. Display All Students\n",
      "4. Search Students by Branch\n",
      "5. Delete Record\n",
      "6. Exit\n"
     ]
    },
    {
     "name": "stdin",
     "output_type": "stream",
     "text": [
      "Enter choice:  6\n"
     ]
    },
    {
     "name": "stdout",
     "output_type": "stream",
     "text": [
      "Exiting program...\n"
     ]
    }
   ],
   "source": [
    "studentInfo = {}\n",
    "\n",
    "while True:\n",
    "    print(\"\\n**************Student Management System*************\")\n",
    "    print(\"Select Option:\")\n",
    "    print(\"1. Add New Students\")\n",
    "    print(\"2. Search Student\")\n",
    "    print(\"3. Display All Students\")\n",
    "    print(\"4. Search Students by Branch\")\n",
    "    print(\"5. Delete Record\")\n",
    "    print(\"6. Exit\")\n",
    "    \n",
    "    choice = int(input(\"Enter choice: \"))\n",
    "    \n",
    "    if choice == 1:\n",
    "        # Add New Students\n",
    "        studentNum = int(input(\"Enter number of students: \"))\n",
    "        print(\"Enter details in format: Name,Branch,Location,Marks\")\n",
    "        \n",
    "        for _ in range(studentNum):\n",
    "            sid = int(input(\"Enter studentId: \"))\n",
    "            if sid in studentInfo:\n",
    "                print(\"Student ID already exists. Try again.\")\n",
    "                continue\n",
    "            data = input(\"Enter details: \").split(\",\")\n",
    "            if len(data) != 4:\n",
    "                print(\"Invalid input! Enter exactly 4 values.\")\n",
    "                continue\n",
    "            studentInfo[sid] = tuple(data)\n",
    "        \n",
    "    elif choice == 2:\n",
    "        # Search Student\n",
    "        enterId = int(input(\"Enter Student ID: \"))\n",
    "        student = studentInfo.get(enterId)\n",
    "        if student:\n",
    "            print(f\"Student Found: ID {enterId}, Name: {student[0]}, Branch: {student[1]}, Location: {student[2]}, Marks: {student[3]}\")\n",
    "        else:\n",
    "            print(\"Student not found.\")\n",
    "            \n",
    "    elif choice == 3:\n",
    "        # Display All Students\n",
    "        if not studentInfo:\n",
    "            print(\"No students found.\")\n",
    "        else:\n",
    "            print(\"\\nStudent-ID\\tName\\tBranch\\tLocation\\tMarks\")\n",
    "            for key, val in studentInfo.items():\n",
    "                print(f\"{key}\\t\\t{val[0]}\\t{val[1]}\\t{val[2]}\\t{val[3]}\")\n",
    "    \n",
    "    elif choice == 4:\n",
    "        # Search students by branch\n",
    "        branch = input(\"Enter branch: \")\n",
    "        found = False\n",
    "        for val in studentInfo.values():\n",
    "            if val[1] == branch:\n",
    "                print(val)\n",
    "                found = True\n",
    "        if not found:\n",
    "            print(\"No students found in this branch.\")\n",
    "    \n",
    "    elif choice == 5:\n",
    "        # Delete Student Record\n",
    "        delId = int(input(\"Enter Student ID to delete: \"))\n",
    "        if delId in studentInfo:\n",
    "            del studentInfo[delId]\n",
    "            print(f\"Student ID {delId} deleted.\")\n",
    "        else:\n",
    "            print(\"Student not found.\")\n",
    "    \n",
    "    elif choice == 6:\n",
    "        print(\"Exiting program...\")\n",
    "        break\n",
    "    \n",
    "    else:\n",
    "        print(\"Invalid choice! Please select a valid option.\")\n"
   ]
  },
  {
   "cell_type": "code",
   "execution_count": 37,
   "id": "b666cc4c-4b62-48b7-ad78-0e6a623f7061",
   "metadata": {},
   "outputs": [
    {
     "data": {
      "text/plain": [
       "15"
      ]
     },
     "execution_count": 37,
     "metadata": {},
     "output_type": "execute_result"
    }
   ],
   "source": [
    "myFun = lambda a,b: a+b\n",
    "myFun(12,3)"
   ]
  },
  {
   "cell_type": "code",
   "execution_count": 49,
   "id": "30262676-3a20-4757-8376-f3c9f5c378eb",
   "metadata": {},
   "outputs": [
    {
     "name": "stdin",
     "output_type": "stream",
     "text": [
      "Enter a string hello\n"
     ]
    },
    {
     "name": "stdout",
     "output_type": "stream",
     "text": [
      "{'e': 1, 'o': 1}\n"
     ]
    }
   ],
   "source": [
    "#Write a program find a frequency of vowels in a given string\n",
    "str= input(\"Enter a string\")\n",
    "d={}\n",
    "for i in str:\n",
    "    if i in \"aeiou\" :\n",
    "        d[i]=d.get(i,0)+1\n",
    "        \n",
    "print(d)\n"
   ]
  },
  {
   "cell_type": "code",
   "execution_count": 50,
   "id": "536514cc-170b-40ec-9519-ee041221339d",
   "metadata": {},
   "outputs": [
    {
     "name": "stdin",
     "output_type": "stream",
     "text": [
      "Enter a number: Mudita Jain\n"
     ]
    },
    {
     "name": "stdout",
     "output_type": "stream",
     "text": [
      "{'M': 1, 'u': 1, 'd': 1, 'i': 2, 't': 1, 'a': 2, ' ': 1, 'J': 1, 'n': 1}\n"
     ]
    }
   ],
   "source": [
    "#Find the frequency of a string\n",
    "char2 = input(\"Enter a number:\")\n",
    "d ={}\n",
    "for i in char2:\n",
    "     d[i]=d.get(i,0)+1\n",
    "print(d)\n",
    "    "
   ]
  },
  {
   "cell_type": "code",
   "execution_count": null,
   "id": "621507e2-9199-433c-8a81-c7dcad0353b7",
   "metadata": {},
   "outputs": [],
   "source": []
  }
 ],
 "metadata": {
  "kernelspec": {
   "display_name": "Python 3 (ipykernel)",
   "language": "python",
   "name": "python3"
  },
  "language_info": {
   "codemirror_mode": {
    "name": "ipython",
    "version": 3
   },
   "file_extension": ".py",
   "mimetype": "text/x-python",
   "name": "python",
   "nbconvert_exporter": "python",
   "pygments_lexer": "ipython3",
   "version": "3.11.7"
  }
 },
 "nbformat": 4,
 "nbformat_minor": 5
}
