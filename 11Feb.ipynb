{
 "cells": [
  {
   "cell_type": "code",
   "execution_count": 36,
   "id": "59c375f1-28ea-45e9-b60e-87a78c11f6ee",
   "metadata": {},
   "outputs": [
    {
     "name": "stdout",
     "output_type": "stream",
     "text": [
      "**************Student Management System*************\n",
      "Select Option for \n",
      "1.Add New Students\n",
      "2.Search Student\n",
      "3.Display All Students\n",
      "4.Search all students through Branch\n",
      "5.Delete Record\n",
      "6.Exit\n"
     ]
    },
    {
     "name": "stdin",
     "output_type": "stream",
     "text": [
      " 1\n"
     ]
    },
    {
     "name": "stdout",
     "output_type": "stream",
     "text": [
      "Enter Name, Branch, Location and Marks\n"
     ]
    },
    {
     "name": "stdin",
     "output_type": "stream",
     "text": [
      " Mudita CSE Delhi 95\n"
     ]
    },
    {
     "name": "stdout",
     "output_type": "stream",
     "text": [
      "**************Student Management System*************\n",
      "Select Option for \n",
      "1.Add New Students\n",
      "2.Search Student\n",
      "3.Display All Students\n",
      "4.Search all students through Branch\n",
      "5.Delete Record\n",
      "6.Exit\n"
     ]
    },
    {
     "name": "stdin",
     "output_type": "stream",
     "text": [
      " 6\n"
     ]
    }
   ],
   "source": [
    "students_info = {}\n",
    "student_id_list = []\n",
    "id=2000\n",
    "while True:\n",
    "    print(\"**************Student Management System*************\")\n",
    "    print(\"Select Option for \")\n",
    "    print(\"1.Add New Students\\n2.Search Student\\n3.Display All Students\\n4.Search all students through Branch\\n5.Delete Record\\n6.Exit\")\n",
    "    choice = int(input())\n",
    "    if choice == 1:\n",
    "        # Logic for Input\n",
    "        print(\"Enter Name, Branch, Location and Marks\")\n",
    "        stu_data = tuple([val for val in input().split(\",\")])\n",
    "        id = id+1\n",
    "        students_info[id]=stu_data\n",
    "        student_id_list.append(id)\n",
    "    elif choice==2:\n",
    "        #Search Opertion\n",
    "        enterId = int(input(\"Enter your Id \"))\n",
    "        result = students_info.get(enterId,False)\n",
    "        if result :\n",
    "            print(result)\n",
    "        else:\n",
    "            print(\"Student is not registered\")\n",
    "    elif choice==3:\n",
    "        #Display All Student\n",
    "        print(\"\\nStudent-ID\\tName \\t Branch \\t Location \\t Marks\")\n",
    "        for key,val in students_info.items():\n",
    "            print(\"{}\\t\\t{}\\t{}\\t\\t{}\\t\\t{}\".format(key,val[0],val[1],val[2],val[3]))\n",
    "    elif choice==4:\n",
    "        # Search all students with given branch\n",
    "        stubranch = input(\"Enter branch for serach\")\n",
    "        print(\"\\nName \\t Branch \\t Location \\t Marks\")\n",
    "        for val in students_info.values():\n",
    "            if val[1]==stubranch:\n",
    "                print(\"{} \\t {} \\t\\t {}           {}\".format(val[0],val[1],val[2],val[3]))\n",
    "    elif choice==5:\n",
    "        # Delete students record\n",
    "        enterId = int(input(\"Enter Your ID\"))\n",
    "        if enterId in student_id_list:\n",
    "            students_info.pop(enterId)\n",
    "            student_id_list.remove(enterId)\n",
    "            print(\"Record Deleted\")\n",
    "        else:\n",
    "            print(\"Student record not available\")\n",
    "    elif choice==6:\n",
    "        break;\n",
    "    else:\n",
    "        print(\"Wrong Choice\")"
   ]
  },
  {
   "cell_type": "code",
   "execution_count": null,
   "id": "b666cc4c-4b62-48b7-ad78-0e6a623f7061",
   "metadata": {},
   "outputs": [],
   "source": []
  }
 ],
 "metadata": {
  "kernelspec": {
   "display_name": "Python 3 (ipykernel)",
   "language": "python",
   "name": "python3"
  },
  "language_info": {
   "codemirror_mode": {
    "name": "ipython",
    "version": 3
   },
   "file_extension": ".py",
   "mimetype": "text/x-python",
   "name": "python",
   "nbconvert_exporter": "python",
   "pygments_lexer": "ipython3",
   "version": "3.11.7"
  }
 },
 "nbformat": 4,
 "nbformat_minor": 5
}
