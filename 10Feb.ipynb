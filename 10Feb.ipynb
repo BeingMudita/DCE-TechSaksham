{
 "cells": [
  {
   "cell_type": "code",
   "execution_count": 1,
   "id": "11f7560a-2fbd-46e2-b07f-e36c4087dc89",
   "metadata": {},
   "outputs": [
    {
     "name": "stdout",
     "output_type": "stream",
     "text": [
      "30\n"
     ]
    }
   ],
   "source": [
    "a=10\n",
    "b=20\n",
    "c=a+b\n",
    "print(c)"
   ]
  },
  {
   "cell_type": "markdown",
   "id": "9ae4aa15-e743-4612-924e-99cb1a5c4589",
   "metadata": {},
   "source": [
    "<b>This becomes non-executable shell</b>\n",
    ">List is a sequence of objects\n"
   ]
  },
  {
   "cell_type": "code",
   "execution_count": 3,
   "id": "5c2a1a23-5951-4c56-9201-445d22b79be7",
   "metadata": {},
   "outputs": [
    {
     "name": "stdout",
     "output_type": "stream",
     "text": [
      "Hello\n"
     ]
    }
   ],
   "source": [
    "print(\"Hello\")"
   ]
  },
  {
   "cell_type": "code",
   "execution_count": 8,
   "id": "dfac6da6-36aa-4c5d-8bfe-7b1bd91c08d0",
   "metadata": {},
   "outputs": [
    {
     "name": "stdin",
     "output_type": "stream",
     "text": [
      "Enter input 12 34 56 78 90 45\n"
     ]
    },
    {
     "name": "stdout",
     "output_type": "stream",
     "text": [
      "<class 'list'>\n",
      "['12', '34', '56', '78', '90', '45']\n",
      "[12, 34, 56, 78, 90, 45]\n"
     ]
    }
   ],
   "source": [
    "#Take input from user and seperate it using comma\n",
    "#APPROACH-1\n",
    "\n",
    "list = []\n",
    "data = input(\"Enter input\").split(\" \")\n",
    "print(type(data))\n",
    "print (data)\n",
    "for val in data:\n",
    "    list.append(int(val))\n",
    "print(list)"
   ]
  },
  {
   "cell_type": "code",
   "execution_count": 10,
   "id": "3f78382f-ab70-4eba-9b14-96f7bf28cd86",
   "metadata": {},
   "outputs": [
    {
     "name": "stdin",
     "output_type": "stream",
     "text": [
      " 12 34 56 78 90 45\n"
     ]
    },
    {
     "name": "stdout",
     "output_type": "stream",
     "text": [
      "[12, 34, 56, 78, 90, 45]\n"
     ]
    }
   ],
   "source": [
    "#APPROACH-2\n",
    "l1 = [int(val) for val in input().split(\" \")]\n",
    "print(l1)"
   ]
  },
  {
   "cell_type": "code",
   "execution_count": 30,
   "id": "792c9559-1529-4a8a-a4bb-d46e4411f1a5",
   "metadata": {},
   "outputs": [
    {
     "name": "stdin",
     "output_type": "stream",
     "text": [
      "Enter number of students: 3\n",
      "Enter studentId: 26111\n",
      "Enter studentId: 26152\n",
      "Enter studentId: 26141\n"
     ]
    },
    {
     "name": "stdout",
     "output_type": "stream",
     "text": [
      "[26111, 26152, 26141]\n"
     ]
    },
    {
     "name": "stdin",
     "output_type": "stream",
     "text": [
      "Enter  user detail Mudita Jain, CSE, 20\n",
      "Enter  user detail Richa Bharti, CSE, 20\n",
      "Enter  user detail Pritidarshani Biswal, CSE, 19\n"
     ]
    },
    {
     "name": "stdout",
     "output_type": "stream",
     "text": [
      "{26111: ('Mudita Jain', ' CSE', ' 20'), 26152: ('Richa Bharti', ' CSE', ' 20'), 26141: ('Pritidarshani Biswal', ' CSE', ' 19')}\n"
     ]
    }
   ],
   "source": [
    "studentId= []\n",
    "studentInfo ={}\n",
    "studentNum = int(input(\"Enter number of students:\"))\n",
    "for i in range(1,studentNum+1):\n",
    "    data= input(\"Enter studentId:\")\n",
    "    studentId.append(int(data))\n",
    "print(studentId)\n",
    "for i in studentId:\n",
    "    data = input(\"Enter  user detail\").split(\",\")\n",
    "    studentInfo[i] = tuple(data)\n",
    "    \n",
    "print(studentInfo)"
   ]
  },
  {
   "cell_type": "code",
   "execution_count": 31,
   "id": "d0a357c5-80f8-4fad-bdd2-ad838c2bee81",
   "metadata": {},
   "outputs": [
    {
     "name": "stdin",
     "output_type": "stream",
     "text": [
      "Enter you id: 26152\n"
     ]
    },
    {
     "data": {
      "text/plain": [
       "('Richa Bharti', ' CSE', ' 20')"
      ]
     },
     "execution_count": 31,
     "metadata": {},
     "output_type": "execute_result"
    }
   ],
   "source": [
    "#Search Operation\n",
    "enterId = int(input(\"Enter you id:\"))\n",
    "studentInfo.get(enterId)"
   ]
  },
  {
   "cell_type": "code",
   "execution_count": 34,
   "id": "28e1cc62-4bba-4dcf-b056-bd77292179ae",
   "metadata": {},
   "outputs": [
    {
     "name": "stdin",
     "output_type": "stream",
     "text": [
      "Enter you id: 26111\n"
     ]
    },
    {
     "name": "stdout",
     "output_type": "stream",
     "text": [
      "{26152: ('Richa Bharti', ' CSE', ' 20'), 26141: ('Pritidarshani Biswal', ' CSE', ' 19')}\n"
     ]
    }
   ],
   "source": [
    "#Delete Operation\n",
    "delId = int(input(\"Enter you id:\"))\n",
    "if delId in studentId:\n",
    "    studentInfo.pop(delId)\n",
    "    print(studentInfo)\n",
    "else:\n",
    "    print(\"Student not available\")"
   ]
  },
  {
   "cell_type": "code",
   "execution_count": null,
   "id": "a2f8efba-5837-42e8-9730-7f84333c6b72",
   "metadata": {},
   "outputs": [],
   "source": [
    "#Update student records\n",
    "id= int(input(\"Enter student id:\"))\n",
    "for i in range(0, len(studentId)):\n",
    "    if id == studentId[i]:\n",
    "        newData= input(\"Enter new records:\").split(\" \")\n",
    "        newRecord= tuple(newData)\n",
    "        studentInfo[id]=newRecord\n",
    "    else:\n",
    "        print(\"NO SUCH STUDENT\")\n",
    "        break\n",
    "        "
   ]
  },
  {
   "cell_type": "code",
   "execution_count": null,
   "id": "0f9f2857-2531-4dae-9863-69a053053e7a",
   "metadata": {},
   "outputs": [],
   "source": [
    "#Search on basis of branch\n",
    "branch = input(\"Enter branch for search\")\n",
    "for i in studentInfo.values():\n",
    "    if i[1] == branch:\n",
    "        print(i)\n",
    "    else:\n",
    "        print(\"Branch do not exist\")\n",
    "        "
   ]
  },
  {
   "cell_type": "code",
   "execution_count": null,
   "id": "5159391a-54f1-49d9-85a8-19d880a2498d",
   "metadata": {},
   "outputs": [],
   "source": [
    "#Display All Student\n",
    "print(\"\\nName    \\t Branch    \\t Age\")\n",
    "for i in studentInfo.values():\n",
    "    print(\"{}    \\t {}    \\t {} \\t\".format(i[0], i[1], i[2]))\n"
   ]
  }
 ],
 "metadata": {
  "kernelspec": {
   "display_name": "Python 3 (ipykernel)",
   "language": "python",
   "name": "python3"
  },
  "language_info": {
   "codemirror_mode": {
    "name": "ipython",
    "version": 3
   },
   "file_extension": ".py",
   "mimetype": "text/x-python",
   "name": "python",
   "nbconvert_exporter": "python",
   "pygments_lexer": "ipython3",
   "version": "3.11.7"
  }
 },
 "nbformat": 4,
 "nbformat_minor": 5
}
