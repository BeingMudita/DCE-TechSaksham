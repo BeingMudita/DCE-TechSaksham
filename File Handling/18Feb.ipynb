{
 "cells": [
  {
   "cell_type": "code",
   "execution_count": 7,
   "id": "6832b0eb-b5fc-4ec4-9c18-f76ec78bbaf5",
   "metadata": {},
   "outputs": [],
   "source": [
    "file = open(\"studentRecord.txt\", \"a\")\n",
    "file.write(\" Hello world!\")\n",
    "file.close()"
   ]
  },
  {
   "cell_type": "code",
   "execution_count": 8,
   "id": "fe15bfd5-bfb0-4614-a4a5-d43c8bfc774b",
   "metadata": {},
   "outputs": [],
   "source": [
    "with open (\"studentRecord.txt\" , \"a\") as file:\n",
    "    file.write(\"\\n Life is soup and I am a fork\")"
   ]
  },
  {
   "cell_type": "code",
   "execution_count": 10,
   "id": "099f998a-71fb-4244-9710-588ab007d652",
   "metadata": {},
   "outputs": [
    {
     "name": "stdout",
     "output_type": "stream",
     "text": [
      "name = Ram\n",
      "name = Ram\n"
     ]
    }
   ],
   "source": [
    "name = \"Ram\"\n",
    "print(\"name = {}\".format(name))\n",
    "print(f\"name = {name}\") #Preffered this in file handling"
   ]
  },
  {
   "cell_type": "code",
   "execution_count": 12,
   "id": "86512c30-649f-472a-9027-89b04d2e2d70",
   "metadata": {},
   "outputs": [],
   "source": [
    "#Write opertaion using sequential method\n",
    "name = \"Joon\"\n",
    "branch = \"Art\"\n",
    "rollno = 26111\n",
    "mobile = 9892258554\n",
    "with open (\"studentRecord.txt\", \"w\") as file:\n",
    "    file.write(f\"Name = {name}, Branch = {branch}, Roll.No. = {rollno}, Contact No. = {mobile}\\n\" )"
   ]
  },
  {
   "cell_type": "code",
   "execution_count": 15,
   "id": "8f5bb96d-fd8a-4925-9048-c9fa5ad574c9",
   "metadata": {},
   "outputs": [
    {
     "name": "stdin",
     "output_type": "stream",
     "text": [
      "Enter name: Yoongles\n",
      "Enter branch: Music\n",
      "Enter mobile number: 8012354687\n",
      "Enter rollno: 26112\n"
     ]
    }
   ],
   "source": [
    "#Write in a file using function\n",
    "def addRecord(roll, name, branch, mobile):\n",
    "    with open (\"studentRecord.txt\", \"a\") as file:\n",
    "        file.write(f\"Name = {name}, Branch = {branch}, Roll.No. = {rollno}, Contact No. = {mobile}\\n\" )\n",
    "\n",
    "name = input(\"Enter name:\")\n",
    "branch = input(\"Enter branch:\")\n",
    "mobile = int(input(\"Enter mobile number:\"))\n",
    "rollno = int(input(\"Enter rollno:\"))\n",
    "addRecord(rollno, name, branch, mobile)"
   ]
  },
  {
   "cell_type": "code",
   "execution_count": 17,
   "id": "065c7b64-845e-42aa-bb32-a7c7f30ca7b8",
   "metadata": {},
   "outputs": [
    {
     "name": "stdout",
     "output_type": "stream",
     "text": [
      "Name = Hope, Branch = CSE, Roll.No. = 26152, Contact No. = 934281056\n",
      "Name = Joon, Branch = Art, Roll.No. = 26111, Contact No. = 9892258554\n",
      "Name = Yoongles, Branch = Music, Roll.No. = 26112, Contact No. = 8012354687\n",
      "\n"
     ]
    }
   ],
   "source": [
    "#file.read() -> Return entire file in string\n",
    "#file.readline() -> Will return a line of file in string format\n",
    "#file.readlines() -> will return a list of lines from file\n",
    "\n",
    "with open(\"studentRecord.txt\", \"r\") as file:\n",
    "    print(file.read())\n"
   ]
  },
  {
   "cell_type": "code",
   "execution_count": 19,
   "id": "194596c9-c8dd-44d6-9023-2041e44b45ee",
   "metadata": {},
   "outputs": [
    {
     "name": "stdout",
     "output_type": "stream",
     "text": [
      "Name = Hope, Branch = CSE, Roll.No. = 26152, Contact No. = 934281056\n",
      "\n"
     ]
    }
   ],
   "source": [
    "with open(\"studentRecord.txt\", \"r\") as file:\n",
    "    print(file.readline())"
   ]
  },
  {
   "cell_type": "code",
   "execution_count": 20,
   "id": "14db1a76-e8e6-41b4-b47d-c6a747464080",
   "metadata": {},
   "outputs": [
    {
     "name": "stdout",
     "output_type": "stream",
     "text": [
      "['Name = Hope, Branch = CSE, Roll.No. = 26152, Contact No. = 934281056\\n', 'Name = Joon, Branch = Art, Roll.No. = 26111, Contact No. = 9892258554\\n', 'Name = Yoongles, Branch = Music, Roll.No. = 26112, Contact No. = 8012354687\\n']\n"
     ]
    }
   ],
   "source": [
    "with open(\"studentRecord.txt\", \"r\") as file:\n",
    "    print(file.readlines())"
   ]
  },
  {
   "cell_type": "code",
   "execution_count": 32,
   "id": "56027901-c1db-4673-9673-66c013a1f3b9",
   "metadata": {},
   "outputs": [
    {
     "name": "stdout",
     "output_type": "stream",
     "text": [
      "RollNo\t\tName\t\tBranch\t\tMobile No.\n",
      "CSE\n",
      "Art\n",
      "Music\n"
     ]
    }
   ],
   "source": [
    "def display():\n",
    "    with open(\"studentRecord.txt\", \"r\") as file:\n",
    "        lines = file.readlines()\n",
    "        print(\"RollNo\\t\\tName\\t\\tBranch\\t\\tMobile No.\")\n",
    "        for i in lines:\n",
    "            line = i.split(\",\")\n",
    "            print(f\"{line[0]}\\t\\t{line[1]}\\t\\t{line[2]}\\t\\t{line[3][:-1]}\")\n",
    "display()"
   ]
  },
  {
   "cell_type": "code",
   "execution_count": 52,
   "id": "4114489c-d929-4e03-8ecd-4b46165195c1",
   "metadata": {},
   "outputs": [
    {
     "name": "stdout",
     "output_type": "stream",
     "text": [
      "Branch not found\n"
     ]
    }
   ],
   "source": [
    "def search(branch):\n",
    "    with open (\"studentRecord.txt\", \"r\") as file:\n",
    "        lines = file.readlines()\n",
    "    for line in lines: \n",
    "        if line.split(',')[1] == branch:\n",
    "            print(line)\n",
    "            break\n",
    "    else:\n",
    "        print(\"Branch not found\")\n",
    "            \n",
    "\n",
    "search(\"aj\")\n",
    "            "
   ]
  },
  {
   "cell_type": "code",
   "execution_count": 129,
   "id": "cafc93f2-f4de-4617-9ff2-25a52d68dcb5",
   "metadata": {},
   "outputs": [],
   "source": [
    "class student:\n",
    "    def __init__(self, roll, name, branch, mobile):\n",
    "        self.roll = roll\n",
    "        self.name =name\n",
    "        self.branch = branch\n",
    "        self.mobile = mobile\n",
    "        self.__addrecord()\n",
    "        \n",
    "    def __addrecord(self):\n",
    "        with open(\"studentRecord.txt\",\"r\") as file:\n",
    "            lines = file.readlines()\n",
    "            for line in lines:\n",
    "                if line.split(',')[0] == str(self.roll):\n",
    "                    print(\"Student already registered\")\n",
    "                    break\n",
    "            else:\n",
    "                with open(\"studentRecord.txt\",\"a\") as file:\n",
    "                    file.write(f\"{self.roll},{self.name},{self.branch},{self.mobile} \\n\")\n",
    "                \n",
    "    def search():\n",
    "        with open(\"studentRecord.txt\",\"r\") as file:\n",
    "            lines=file.readlines()\n",
    "        for line in lines:\n",
    "            line=line.split(\",\")\n",
    "            if (rollToSearch == line[0]):\n",
    "                print(f\"{self.roll},{self.name},{self.branch},{self.mobile} \\n\")\n",
    "                \n",
    "    def update(self, roll,name,branch):\n",
    "        with open(\"studentRecord.txt\",\"r\") as file:\n",
    "            lines = file.readlines()\n",
    "        for i in range(len(lines)):\n",
    "            if lines[i].split(',')[0] ==str(roll):\n",
    "                lines[i]=f\"{roll},{name},{branch},{mobile}\\n\"\n",
    "                break\n",
    "        with open(\"studentRecord.txt\",\"w\") as file:\n",
    "            file.write(\"\".join(lines))"
   ]
  },
  {
   "cell_type": "code",
   "execution_count": 130,
   "id": "551025cb-79d3-4bed-bd18-f1e684464172",
   "metadata": {},
   "outputs": [],
   "source": [
    "s1 = student(26111, \"Mudita\", \"CSE\", 9891145212)"
   ]
  },
  {
   "cell_type": "code",
   "execution_count": null,
   "id": "49ea99aa-fe3b-4e7d-94bc-17815460c471",
   "metadata": {},
   "outputs": [],
   "source": []
  },
  {
   "cell_type": "code",
   "execution_count": null,
   "id": "0256e3c5-fec7-41cc-8d94-0e664eea8592",
   "metadata": {},
   "outputs": [],
   "source": []
  },
  {
   "cell_type": "code",
   "execution_count": null,
   "id": "0afae7a9-000f-4008-94e8-c4c4792ec20d",
   "metadata": {},
   "outputs": [],
   "source": []
  }
 ],
 "metadata": {
  "kernelspec": {
   "display_name": "Python 3 (ipykernel)",
   "language": "python",
   "name": "python3"
  },
  "language_info": {
   "codemirror_mode": {
    "name": "ipython",
    "version": 3
   },
   "file_extension": ".py",
   "mimetype": "text/x-python",
   "name": "python",
   "nbconvert_exporter": "python",
   "pygments_lexer": "ipython3",
   "version": "3.11.7"
  }
 },
 "nbformat": 4,
 "nbformat_minor": 5
}
